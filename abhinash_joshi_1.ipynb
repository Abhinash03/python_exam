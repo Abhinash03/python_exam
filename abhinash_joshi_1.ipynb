{
 "cells": [
  {
   "cell_type": "code",
   "execution_count": null,
   "id": "902aaa40-e3fe-4c56-825c-d564db4ff39a",
   "metadata": {},
   "outputs": [],
   "source": []
  },
  {
   "cell_type": "code",
   "execution_count": 96,
   "id": "868d7784-d7d0-47c8-a295-57d2ef4769c1",
   "metadata": {},
   "outputs": [
    {
     "name": "stdout",
     "output_type": "stream",
     "text": [
      "sorted string [' ', ' ', ' ', ' ', ' ', ' ', 'b', 'c', 'e', 'e', 'e', 'f', 'h', 'h', 'i', 'j', 'k', 'm', 'n', 'o', 'o', 'o', 'p', 'q', 'r', 'r', 's', 't', 't', 'u', 'u', 'v', 'v', 'v', 'x']\n",
      "alphabets ['a', 'b', 'c', 'd', 'e', 'f', 'g', 'h', 'i', 'j', 'k', 'l', 'm', 'n', 'p', 'q', 'r', 's', 't', 'u', 'v', 'w', 'x', 'y', 'z']\n",
      "missing elements dict {'a': 'x', 'b': 'x', 'c': 'x', 'd': 'x', 'e': 'x', 'f': 'x', 'g': 'x', 'h': 'x', 'i': 'x', 'j': 'x', 'k': 'x', 'l': 'x', 'm': 'x', 'n': 'x', 'p': 'x', 'q': 'x', 'r': 'x', 's': 'x', 't': 'x', 'u': 'x', 'v': 'x', 'w': 'x', 'x': 'v', 'y': 'x', 'z': 'x'}\n"
     ]
    }
   ],
   "source": [
    "#w\n",
    "def missing_element():\n",
    "    \n",
    "    n = \"The quick brovvn fox jumps over the\"\n",
    "    sortt = []\n",
    "    n = n.lower()\n",
    "     # print(n)\n",
    "    for i in n:\n",
    "        sortt.append(i)\n",
    "    sortt.sort()\n",
    "    print(\"sorted string\",sortt)\n",
    "    \n",
    "    alpha = [\"a\",\"b\",\"c\",\"d\",\"e\",\"f\",\"g\",\"h\",\"i\",\"j\",\"k\",\"l\",\"m\",\"n\",\"p\",\"q\",\"r\",\"s\",\"t\",\"u\",\"v\",\"w\",\"x\",\"y\",\"z\"]\n",
    "    print(\"alphabets\",alpha)\n",
    "    # print(sortt)\n",
    "    stringg = {}\n",
    "    for i in alpha:\n",
    "        for j in sortt:\n",
    "            if i not in j:\n",
    "                stringg[i]=j\n",
    "    print(\"missing elements dict\",stringg)\n",
    "    # print(str(stringg))\n",
    "    \n",
    "\n",
    "\n",
    "missing_element()\n",
    "\n",
    "\n",
    "\n",
    "    \n",
    "\n",
    "    "
   ]
  },
  {
   "cell_type": "code",
   "execution_count": null,
   "id": "91371af1-13be-4327-9858-f705225a3401",
   "metadata": {},
   "outputs": [],
   "source": []
  },
  {
   "cell_type": "code",
   "execution_count": 143,
   "id": "f615beb0-b516-4647-9666-634c69a282d2",
   "metadata": {},
   "outputs": [
    {
     "name": "stdout",
     "output_type": "stream",
     "text": [
      "{'oneplus10': 'smartphone', 'ideapad': 'laptop', 'fastrack': 'vvatch'}\n"
     ]
    },
    {
     "data": {
      "text/plain": [
       "str"
      ]
     },
     "execution_count": 143,
     "metadata": {},
     "output_type": "execute_result"
    }
   ],
   "source": [
    "# inventory management \n",
    "# tasks 1\n",
    "# file =open(\"read_inventory_data\",\"w+\")\n",
    "dcit= {\n",
    "    # key         values\n",
    "    \"oneplus10\":\"smartphone\",\n",
    "    \"ideapad\": \"laptop\",\n",
    "    \"fastrack\": \"vvatch\"\n",
    "}\n",
    "a = str(dcit)\n",
    "print(a)\n",
    "type(a)\n",
    "\n",
    "\n"
   ]
  },
  {
   "cell_type": "code",
   "execution_count": 149,
   "id": "d4239f5f-648f-45fc-a81f-a2807dcf5333",
   "metadata": {},
   "outputs": [],
   "source": [
    "file =open(\"read_inventory_data\",\"w+\")\n",
    "file.write(a)\n",
    "file.read()\n",
    "file.close()"
   ]
  },
  {
   "cell_type": "code",
   "execution_count": null,
   "id": "69b3e089-e8aa-4abd-9159-c3d19c699a87",
   "metadata": {},
   "outputs": [],
   "source": []
  }
 ],
 "metadata": {
  "kernelspec": {
   "display_name": "Python [conda env:anaconda]",
   "language": "python",
   "name": "conda-env-anaconda-py"
  },
  "language_info": {
   "codemirror_mode": {
    "name": "ipython",
    "version": 3
   },
   "file_extension": ".py",
   "mimetype": "text/x-python",
   "name": "python",
   "nbconvert_exporter": "python",
   "pygments_lexer": "ipython3",
   "version": "3.12.7"
  }
 },
 "nbformat": 4,
 "nbformat_minor": 5
}
